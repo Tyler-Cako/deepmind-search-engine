{
 "cells": [
  {
   "cell_type": "markdown",
   "metadata": {},
   "source": [
    "### Imports"
   ]
  },
  {
   "cell_type": "code",
   "execution_count": 1,
   "metadata": {},
   "outputs": [
    {
     "name": "stderr",
     "output_type": "stream",
     "text": [
      "Java started and loaded: pyterrier.java, pyterrier.terrier.java [version=5.10 (build: craigm 2024-08-22 17:33), helper_version=0.0.8]\n",
      "C:\\Users\\ajsko\\AppData\\Local\\Temp\\ipykernel_43712\\2994591996.py:10: DeprecationWarning: Call to deprecated method pt.init(). Deprecated since version 0.11.0.\n",
      "java is now started automatically with default settings. To force initialisation early, run:\n",
      "pt.java.init() # optional, forces java initialisation\n",
      "  pt.init()\n"
     ]
    }
   ],
   "source": [
    "import sqlite3\n",
    "import pyterrier as pt\n",
    "import os\n",
    "from pathlib import Path\n",
    "from bs4 import BeautifulSoup  # To clean the html\n",
    "import warnings\n",
    "warnings.filterwarnings(\"ignore\")\n",
    "\n",
    "if not pt.started():\n",
    "    pt.init()"
   ]
  },
  {
   "cell_type": "markdown",
   "metadata": {},
   "source": [
    "### SQLite DB for the Scraped Data"
   ]
  },
  {
   "cell_type": "code",
   "execution_count": 2,
   "metadata": {},
   "outputs": [],
   "source": [
    "conn = sqlite3.connect(\"../webscraper/crawled.db\")  # Path to database\n",
    "\n",
    "c = conn.cursor()"
   ]
  },
  {
   "cell_type": "code",
   "execution_count": 8,
   "metadata": {},
   "outputs": [],
   "source": [
    "def extract_text(html_content):\n",
    "    soup = BeautifulSoup(html_content, \"html.parser\")\n",
    "    return soup.get_text().replace('\\n', '')"
   ]
  },
  {
   "cell_type": "code",
   "execution_count": 9,
   "metadata": {},
   "outputs": [],
   "source": [
    "c.execute(\"SELECT url, html FROM paper\")\n",
    "documents = []\n",
    "for url, html in c.fetchall():\n",
    "    documents.append({\"docno\": url, \"text\": extract_text(html)})"
   ]
  },
  {
   "cell_type": "code",
   "execution_count": 10,
   "metadata": {},
   "outputs": [
    {
     "data": {
      "text/plain": [
       "{'docno': 'https://deepmind.google/research/publications/101479',\n",
       " 'text': 'Machine Unlearning Doesn’t Do What You Think: Lessons for Generative AI Policy, Research, and Practice - Google DeepMind      Jump to Content    GoogleDeepMindSearch...SearchCloseGoogleDeepMind          About                                        Learn about Google DeepMind                                       — Our mission is to build AI responsibly to benefit humanity                    Responsibility & Safety                                       — We want AI to benefit the world, so we must be thoughtful about how it’s built and used                    Education                                       — Our vision is to help make the AI ecosystem more representative of society                    Careers                                       — Many disciplines, one common goal                    Research                                        View Research                                       — We work on some of the most complex and interesting challenges in AI.                    Breakthroughs                                       — Explore some of the biggest innovations in AI                    Publications                                       — Explore a selection of our recent research                    Technologies                                        View Technologies                                       — Solving the world’s most complex challenges                    Gemini                                       — The most general and capable AI models we\\'ve ever built                    Project Astra                                       — A universal AI agent that is helpful in everyday life                    Imagen                                       — Our highest quality text-to-image model                    Veo                               — Our state-of-the-art video generation model                    Overview                                                Veo 2                      (New)          AlphaFold                               — Accelerating breakthroughs in biology with AI                    Overview                                                Impact stories                                                AlphaFold Server                                                AlphaFold Database                              SynthID                                       — Identifying AI-generated content                    Discover                                        View Discover                                       — Discover our latest breakthroughs and see how we’re shaping the future                    Blog                                       — Discover our latest AI breakthroughs, projects, and updates                    Events                                       — Meet our team and learn more about our research                    The Podcast                                       — Uncover the extraordinary ways AI is transforming our world          Search...SearchClose          Learn about Google DeepMind                              Responsibility & Safety                                       — We want AI to benefit the world, so we must be thoughtful about how it’s built and used                    Education                                       — Our vision is to help make the AI ecosystem more representative of society                    Careers                                       — Many disciplines, one common goal          Latest postsFACTS Grounding: A new benchmark for evaluating the factuality of large language models17 December 2024State-of-the-art video and image generation with Veo 2 and Imagen 316 December 2024          View Research                              Breakthroughs                                       — Explore some of the biggest innovations in AI                    Publications                                       — Explore a selection of our recent research          Latest research postsGoogle DeepMind at NeurIPS 20245 December 2024Genie 2: A large-scale foundation world model4 December 2024          View Technologies                              Gemini                                       — The most general and capable AI models we\\'ve ever built                    Project Astra                                       — A universal AI agent that is helpful in everyday life                    Imagen                                       — Our highest quality text-to-image model                    Veo                                       — Our state-of-the-art video generation model                    AlphaFold                                       — Accelerating breakthroughs in biology with AI                    SynthID                                       — Identifying AI-generated content          Latest technology postsState-of-the-art video and image generation with Veo 2 and Imagen 316 December 2024Introducing Gemini 2.0: our new AI model for the agentic era11 December 2024          View Discover                              Blog                                       — Discover our latest AI breakthroughs, projects, and updates                    Events                                       — Meet our team and learn more about our research                    The Podcast                                       — Uncover the extraordinary ways AI is transforming our world          Latest postsFACTS Grounding: A new benchmark for evaluating the factuality of large language models17 December 2024State-of-the-art video and image generation with Veo 2 and Imagen 316 December 2024Machine Unlearning Doesn’t Do What You Think: Lessons for Generative AI Policy, Research, and PracticePublished10 December 2024View publicationDownload        Share      Copy link                ×              AbstractWe articulate fundamental mismatches between technical methods for machine unlearning in Generative AI, and documented aspirations for broader impact that these methods could have for law and policy. These aspirations are both numerous and varied, motivated by issues that pertain to privacy, copyright, safety, and more. For example, unlearning is often invoked as a solution for removing the effects of targeted information from a generative-AI model’s parameters, e.g., a particular individual’s personal data or in-copyright expression of Spiderman that was included in the model’s training data. Unlearning is also proposed as a way to prevent a model from generating targeted types of information in its outputs, e.g., generations that closely resemble a particular individual’s data or reflect the concept of “Spiderman.” Both of these goals—the targeted removal of information from a model and the targeted suppression of information from a model’s outputs—present various technical and substantive challenges. We provide a framework for thinking rigorously about these challenges, which enables us to be clear about why unlearning is not a general-purpose solution for circumscribing generative-AI model behavior in service of broader positive impact. We aim for conceptual clarity and to encourage more thoughtful communication among machine learning (ML), law, and policy experts who seek to develop and apply technical methods for compliance with policy objectives.AuthorsA. Feder Cooper, Christopher A. Choquette-Choo, Miranda Bogen, Matthew Jagielski, Katja Filippova, Ken Ziyu Liu, Alexandra Chouldechova, Jamie Hayes, Yangsibo Huang, Niloofar Mireshghallah, Ilia Shumailov, Eleni Triantafillou, Peter Kairouz, Nicole Mitchell, Percy Liang, Daniel E. Ho, Yejin Choi, Sanmi Koyejo, Fernando Delgado, James Grimmelmann, Vitaly Shmatikov, Christopher De Sa, Solon Barocas, Amy Cyphert, Mark Lemley, danah boyd, Jennifer Wortman Vaughan, Miles Brundage, David Bau, Seth Neel, Abigail Z. Jacobs, Andreas Terzis, Hanna Wallach, Nicolas Papernot, Katherine LeeVenuearXivFooter linksFollow usAboutAbout Google DeepMindResponsibility & SafetyResearchTechnologiesBlogCareersLearn moreGeminiVeoImagen 3SynthID                    Sign up for updates on our latest innovations                  Email addressPlease enter a valid email (e.g., \"name@example.com\")I accept Google\\'s Terms and Conditions and acknowledge that my information will be used in accordance with Google\\'s Privacy Policy.Sign upAbout GoogleGoogle productsPrivacyTermsCookies management controls'}"
      ]
     },
     "execution_count": 10,
     "metadata": {},
     "output_type": "execute_result"
    }
   ],
   "source": [
    "documents[0]"
   ]
  },
  {
   "cell_type": "markdown",
   "metadata": {},
   "source": [
    "### Indexing"
   ]
  },
  {
   "cell_type": "code",
   "execution_count": null,
   "metadata": {},
   "outputs": [],
   "source": [
    "index_path = Path(\"../webscraper/index\")\n",
    "if os.path.exists(index_path):\n",
    "    index = pt.IndexFactory.of(index_path)\n",
    "else:\n",
    "    indexer = pt.IterDictIndexer(\"../webscraper/index\", meta={\"docno\": 20, \"filename\": 1024, \"title\": 1024}, meta_tags={\"title\":\"title\"})\n",
    "    index_ref = indexer.index(documents)\n",
    "    index = pt.IndexFactory.of(index_ref)"
   ]
  },
  {
   "cell_type": "code",
   "execution_count": null,
   "metadata": {},
   "outputs": [],
   "source": [
    "print(index.getCollectionStatistics().toString())"
   ]
  },
  {
   "cell_type": "code",
   "execution_count": null,
   "metadata": {},
   "outputs": [],
   "source": [
    "print(\"Available keys in MetaIndex:\", index.getMetaIndex().getKeys())"
   ]
  },
  {
   "cell_type": "code",
   "execution_count": null,
   "metadata": {},
   "outputs": [],
   "source": [
    "bm25 = pt.BatchRetrieve(index, wmodel=\"BM25\")\n",
    "bm25.transform(\"LLM\")"
   ]
  }
 ],
 "metadata": {
  "kernelspec": {
   "display_name": ".venv",
   "language": "python",
   "name": "python3"
  },
  "language_info": {
   "codemirror_mode": {
    "name": "ipython",
    "version": 3
   },
   "file_extension": ".py",
   "mimetype": "text/x-python",
   "name": "python",
   "nbconvert_exporter": "python",
   "pygments_lexer": "ipython3",
   "version": "3.12.7"
  }
 },
 "nbformat": 4,
 "nbformat_minor": 2
}
